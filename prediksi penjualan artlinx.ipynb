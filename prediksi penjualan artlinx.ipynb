{
 "cells": [
  {
   "cell_type": "markdown",
   "id": "54ea3e41",
   "metadata": {},
   "source": [
    "# Import Library & Dataset"
   ]
  },
  {
   "cell_type": "code",
   "execution_count": 49,
   "id": "929343fd",
   "metadata": {},
   "outputs": [],
   "source": [
    "import pandas as pd\n",
    "import numpy as np\n",
    "import matplotlib.pyplot as plt\n",
    "import seaborn as sns\n",
    "from sklearn.preprocessing import LabelEncoder\n",
    "from sklearn.model_selection import train_test_split\n",
    "from xgboost import XGBRegressor\n",
    "from sklearn.metrics import mean_absolute_error, mean_squared_error\n",
    "import joblib\n",
    "import warnings\n",
    "warnings.filterwarnings('ignore')"
   ]
  },
  {
   "cell_type": "code",
   "execution_count": 50,
   "id": "0a076cd7",
   "metadata": {},
   "outputs": [],
   "source": [
    "# Baca file\n",
    "file_path = 'penjualan_artlinx_full_2024.xlsx'\n",
    "df = pd.read_excel(file_path)"
   ]
  },
  {
   "cell_type": "code",
   "execution_count": 51,
   "id": "69a4a3aa",
   "metadata": {},
   "outputs": [
    {
     "name": "stdout",
     "output_type": "stream",
     "text": [
      "<class 'pandas.core.frame.DataFrame'>\n",
      "RangeIndex: 296637 entries, 0 to 296636\n",
      "Data columns (total 13 columns):\n",
      " #   Column            Non-Null Count   Dtype         \n",
      "---  ------            --------------   -----         \n",
      " 0   Tanggal           296637 non-null  datetime64[ns]\n",
      " 1   Kode              296264 non-null  object        \n",
      " 2   Nama Produk       296637 non-null  object        \n",
      " 3   Merk              296637 non-null  object        \n",
      " 4   Jenis Brand       296637 non-null  object        \n",
      " 5   Kategori 1        296637 non-null  object        \n",
      " 6   Kategori 2        296637 non-null  object        \n",
      " 7   Kategori ID       296637 non-null  int64         \n",
      " 8   Metode Penjualan  296637 non-null  object        \n",
      " 9   Harga Jual        296637 non-null  int64         \n",
      " 10  Qty               296637 non-null  int64         \n",
      " 11  Diskon            296637 non-null  int64         \n",
      " 12  Total Penjualan   296637 non-null  float64       \n",
      "dtypes: datetime64[ns](1), float64(1), int64(4), object(7)\n",
      "memory usage: 29.4+ MB\n"
     ]
    }
   ],
   "source": [
    "df.info()"
   ]
  },
  {
   "cell_type": "code",
   "execution_count": 52,
   "id": "17834e46",
   "metadata": {},
   "outputs": [
    {
     "data": {
      "text/html": [
       "<div>\n",
       "<style scoped>\n",
       "    .dataframe tbody tr th:only-of-type {\n",
       "        vertical-align: middle;\n",
       "    }\n",
       "\n",
       "    .dataframe tbody tr th {\n",
       "        vertical-align: top;\n",
       "    }\n",
       "\n",
       "    .dataframe thead th {\n",
       "        text-align: right;\n",
       "    }\n",
       "</style>\n",
       "<table border=\"1\" class=\"dataframe\">\n",
       "  <thead>\n",
       "    <tr style=\"text-align: right;\">\n",
       "      <th></th>\n",
       "      <th>Tanggal</th>\n",
       "      <th>Kode</th>\n",
       "      <th>Nama Produk</th>\n",
       "      <th>Merk</th>\n",
       "      <th>Jenis Brand</th>\n",
       "      <th>Kategori 1</th>\n",
       "      <th>Kategori 2</th>\n",
       "      <th>Kategori ID</th>\n",
       "      <th>Metode Penjualan</th>\n",
       "      <th>Harga Jual</th>\n",
       "      <th>Qty</th>\n",
       "      <th>Diskon</th>\n",
       "      <th>Total Penjualan</th>\n",
       "    </tr>\n",
       "  </thead>\n",
       "  <tbody>\n",
       "    <tr>\n",
       "      <th>0</th>\n",
       "      <td>2024-01-01</td>\n",
       "      <td>CYAKC00042</td>\n",
       "      <td>Keychain Seventeen Plush Hoshi</td>\n",
       "      <td>CYARTT</td>\n",
       "      <td>LOKAL</td>\n",
       "      <td>Fanart / Fanmerch</td>\n",
       "      <td>Korea (Idol, Drama)</td>\n",
       "      <td>255340268</td>\n",
       "      <td>Offline</td>\n",
       "      <td>38000</td>\n",
       "      <td>2</td>\n",
       "      <td>5</td>\n",
       "      <td>72200.0</td>\n",
       "    </tr>\n",
       "    <tr>\n",
       "      <th>1</th>\n",
       "      <td>2024-01-01</td>\n",
       "      <td>JSYPN00016</td>\n",
       "      <td>PIN JSY 32mm Lagi Embuh</td>\n",
       "      <td>JARESAYANG</td>\n",
       "      <td>LOKAL</td>\n",
       "      <td>Aksesoris</td>\n",
       "      <td>Pin / Brooch</td>\n",
       "      <td>255658197</td>\n",
       "      <td>Offline</td>\n",
       "      <td>10000</td>\n",
       "      <td>2</td>\n",
       "      <td>30</td>\n",
       "      <td>14000.0</td>\n",
       "    </tr>\n",
       "    <tr>\n",
       "      <th>2</th>\n",
       "      <td>2024-01-01</td>\n",
       "      <td>JSYPN00016</td>\n",
       "      <td>PIN JSY 32mm Lagi Embuh</td>\n",
       "      <td>JARESAYANG</td>\n",
       "      <td>LOKAL</td>\n",
       "      <td>Aksesoris</td>\n",
       "      <td>Pin / Brooch</td>\n",
       "      <td>255658197</td>\n",
       "      <td>Offline</td>\n",
       "      <td>10000</td>\n",
       "      <td>2</td>\n",
       "      <td>30</td>\n",
       "      <td>14000.0</td>\n",
       "    </tr>\n",
       "    <tr>\n",
       "      <th>3</th>\n",
       "      <td>2024-01-01</td>\n",
       "      <td>JSYKC00009</td>\n",
       "      <td>Keychain JSY Nangiso Rapopo</td>\n",
       "      <td>JARESAYANG</td>\n",
       "      <td>LOKAL</td>\n",
       "      <td>Gantungan Kunci, Tas, dan HP</td>\n",
       "      <td>Acrylic, Resin, Epoxy, Clay</td>\n",
       "      <td>255656946</td>\n",
       "      <td>Offline</td>\n",
       "      <td>22000</td>\n",
       "      <td>4</td>\n",
       "      <td>0</td>\n",
       "      <td>88000.0</td>\n",
       "    </tr>\n",
       "    <tr>\n",
       "      <th>4</th>\n",
       "      <td>2024-01-01</td>\n",
       "      <td>JSYKC00011</td>\n",
       "      <td>Keychain JSY Mie Ayam</td>\n",
       "      <td>JARESAYANG</td>\n",
       "      <td>LOKAL</td>\n",
       "      <td>Gantungan Kunci, Tas, dan HP</td>\n",
       "      <td>Acrylic, Resin, Epoxy, Clay</td>\n",
       "      <td>255656946</td>\n",
       "      <td>Offline</td>\n",
       "      <td>22000</td>\n",
       "      <td>4</td>\n",
       "      <td>0</td>\n",
       "      <td>88000.0</td>\n",
       "    </tr>\n",
       "  </tbody>\n",
       "</table>\n",
       "</div>"
      ],
      "text/plain": [
       "     Tanggal        Kode                     Nama Produk        Merk  \\\n",
       "0 2024-01-01  CYAKC00042  Keychain Seventeen Plush Hoshi      CYARTT   \n",
       "1 2024-01-01  JSYPN00016         PIN JSY 32mm Lagi Embuh  JARESAYANG   \n",
       "2 2024-01-01  JSYPN00016         PIN JSY 32mm Lagi Embuh  JARESAYANG   \n",
       "3 2024-01-01  JSYKC00009     Keychain JSY Nangiso Rapopo  JARESAYANG   \n",
       "4 2024-01-01  JSYKC00011           Keychain JSY Mie Ayam  JARESAYANG   \n",
       "\n",
       "  Jenis Brand                    Kategori 1                   Kategori 2  \\\n",
       "0       LOKAL             Fanart / Fanmerch          Korea (Idol, Drama)   \n",
       "1       LOKAL                     Aksesoris                 Pin / Brooch   \n",
       "2       LOKAL                     Aksesoris                 Pin / Brooch   \n",
       "3       LOKAL  Gantungan Kunci, Tas, dan HP  Acrylic, Resin, Epoxy, Clay   \n",
       "4       LOKAL  Gantungan Kunci, Tas, dan HP  Acrylic, Resin, Epoxy, Clay   \n",
       "\n",
       "   Kategori ID Metode Penjualan  Harga Jual  Qty  Diskon  Total Penjualan  \n",
       "0    255340268          Offline       38000    2       5          72200.0  \n",
       "1    255658197          Offline       10000    2      30          14000.0  \n",
       "2    255658197          Offline       10000    2      30          14000.0  \n",
       "3    255656946          Offline       22000    4       0          88000.0  \n",
       "4    255656946          Offline       22000    4       0          88000.0  "
      ]
     },
     "execution_count": 52,
     "metadata": {},
     "output_type": "execute_result"
    }
   ],
   "source": [
    "df.head(5)"
   ]
  },
  {
   "cell_type": "code",
   "execution_count": 53,
   "id": "1abdb3be",
   "metadata": {},
   "outputs": [
    {
     "name": "stdout",
     "output_type": "stream",
     "text": [
      "Jumlah data produk ATK: 229560\n"
     ]
    }
   ],
   "source": [
    "# Filter data ATK\n",
    "df_atk = df[df['Jenis Brand'] == 'ATK'].copy()\n",
    "print(f\"Jumlah data produk ATK: {len(df_atk)}\")"
   ]
  },
  {
   "cell_type": "code",
   "execution_count": 54,
   "id": "7880405a",
   "metadata": {},
   "outputs": [
    {
     "name": "stdout",
     "output_type": "stream",
     "text": [
      "Jumlah data produk lokal: 67077\n"
     ]
    }
   ],
   "source": [
    "# Filter data lokal\n",
    "df_lokal = df[df['Jenis Brand'] == 'LOKAL'].copy()\n",
    "print(f\"Jumlah data produk lokal: {len(df_lokal)}\")"
   ]
  },
  {
   "cell_type": "code",
   "execution_count": 55,
   "id": "a0a63e24",
   "metadata": {},
   "outputs": [
    {
     "data": {
      "text/html": [
       "<div>\n",
       "<style scoped>\n",
       "    .dataframe tbody tr th:only-of-type {\n",
       "        vertical-align: middle;\n",
       "    }\n",
       "\n",
       "    .dataframe tbody tr th {\n",
       "        vertical-align: top;\n",
       "    }\n",
       "\n",
       "    .dataframe thead th {\n",
       "        text-align: right;\n",
       "    }\n",
       "</style>\n",
       "<table border=\"1\" class=\"dataframe\">\n",
       "  <thead>\n",
       "    <tr style=\"text-align: right;\">\n",
       "      <th></th>\n",
       "      <th>Tanggal</th>\n",
       "      <th>Kategori ID</th>\n",
       "      <th>Harga Jual</th>\n",
       "      <th>Qty</th>\n",
       "      <th>Diskon</th>\n",
       "      <th>Total Penjualan</th>\n",
       "    </tr>\n",
       "  </thead>\n",
       "  <tbody>\n",
       "    <tr>\n",
       "      <th>count</th>\n",
       "      <td>67077</td>\n",
       "      <td>6.707700e+04</td>\n",
       "      <td>67077.000000</td>\n",
       "      <td>67077.000000</td>\n",
       "      <td>67077.000000</td>\n",
       "      <td>67077.000000</td>\n",
       "    </tr>\n",
       "    <tr>\n",
       "      <th>mean</th>\n",
       "      <td>2024-08-04 01:48:53.100764416</td>\n",
       "      <td>2.531181e+08</td>\n",
       "      <td>23029.820013</td>\n",
       "      <td>2.867749</td>\n",
       "      <td>7.108696</td>\n",
       "      <td>62806.500650</td>\n",
       "    </tr>\n",
       "    <tr>\n",
       "      <th>min</th>\n",
       "      <td>2024-01-01 00:00:00</td>\n",
       "      <td>3.154088e+07</td>\n",
       "      <td>2000.000000</td>\n",
       "      <td>1.000000</td>\n",
       "      <td>0.000000</td>\n",
       "      <td>1875.000000</td>\n",
       "    </tr>\n",
       "    <tr>\n",
       "      <th>25%</th>\n",
       "      <td>2024-05-15 00:00:00</td>\n",
       "      <td>2.553402e+08</td>\n",
       "      <td>15000.000000</td>\n",
       "      <td>2.000000</td>\n",
       "      <td>0.000000</td>\n",
       "      <td>28000.000000</td>\n",
       "    </tr>\n",
       "    <tr>\n",
       "      <th>50%</th>\n",
       "      <td>2024-08-19 00:00:00</td>\n",
       "      <td>2.556569e+08</td>\n",
       "      <td>22000.000000</td>\n",
       "      <td>3.000000</td>\n",
       "      <td>0.000000</td>\n",
       "      <td>66000.000000</td>\n",
       "    </tr>\n",
       "    <tr>\n",
       "      <th>75%</th>\n",
       "      <td>2024-10-31 00:00:00</td>\n",
       "      <td>2.556569e+08</td>\n",
       "      <td>28500.000000</td>\n",
       "      <td>4.000000</td>\n",
       "      <td>10.000000</td>\n",
       "      <td>88000.000000</td>\n",
       "    </tr>\n",
       "    <tr>\n",
       "      <th>max</th>\n",
       "      <td>2024-12-31 00:00:00</td>\n",
       "      <td>2.556582e+08</td>\n",
       "      <td>295000.000000</td>\n",
       "      <td>5.000000</td>\n",
       "      <td>50.000000</td>\n",
       "      <td>960000.000000</td>\n",
       "    </tr>\n",
       "    <tr>\n",
       "      <th>std</th>\n",
       "      <td>NaN</td>\n",
       "      <td>2.265566e+07</td>\n",
       "      <td>14305.953275</td>\n",
       "      <td>1.148740</td>\n",
       "      <td>11.101428</td>\n",
       "      <td>40709.188184</td>\n",
       "    </tr>\n",
       "  </tbody>\n",
       "</table>\n",
       "</div>"
      ],
      "text/plain": [
       "                             Tanggal   Kategori ID     Harga Jual  \\\n",
       "count                          67077  6.707700e+04   67077.000000   \n",
       "mean   2024-08-04 01:48:53.100764416  2.531181e+08   23029.820013   \n",
       "min              2024-01-01 00:00:00  3.154088e+07    2000.000000   \n",
       "25%              2024-05-15 00:00:00  2.553402e+08   15000.000000   \n",
       "50%              2024-08-19 00:00:00  2.556569e+08   22000.000000   \n",
       "75%              2024-10-31 00:00:00  2.556569e+08   28500.000000   \n",
       "max              2024-12-31 00:00:00  2.556582e+08  295000.000000   \n",
       "std                              NaN  2.265566e+07   14305.953275   \n",
       "\n",
       "                Qty        Diskon  Total Penjualan  \n",
       "count  67077.000000  67077.000000     67077.000000  \n",
       "mean       2.867749      7.108696     62806.500650  \n",
       "min        1.000000      0.000000      1875.000000  \n",
       "25%        2.000000      0.000000     28000.000000  \n",
       "50%        3.000000      0.000000     66000.000000  \n",
       "75%        4.000000     10.000000     88000.000000  \n",
       "max        5.000000     50.000000    960000.000000  \n",
       "std        1.148740     11.101428     40709.188184  "
      ]
     },
     "execution_count": 55,
     "metadata": {},
     "output_type": "execute_result"
    }
   ],
   "source": [
    "df_lokal.describe()"
   ]
  },
  {
   "cell_type": "code",
   "execution_count": 56,
   "id": "e0894974",
   "metadata": {},
   "outputs": [
    {
     "data": {
      "text/plain": [
       "Tanggal             0\n",
       "Kode                0\n",
       "Nama Produk         0\n",
       "Merk                0\n",
       "Jenis Brand         0\n",
       "Kategori 1          0\n",
       "Kategori 2          0\n",
       "Kategori ID         0\n",
       "Metode Penjualan    0\n",
       "Harga Jual          0\n",
       "Qty                 0\n",
       "Diskon              0\n",
       "Total Penjualan     0\n",
       "dtype: int64"
      ]
     },
     "execution_count": 56,
     "metadata": {},
     "output_type": "execute_result"
    }
   ],
   "source": [
    "df_lokal.isnull().sum()"
   ]
  },
  {
   "cell_type": "code",
   "execution_count": 57,
   "id": "c4ed55e2",
   "metadata": {},
   "outputs": [
    {
     "name": "stdout",
     "output_type": "stream",
     "text": [
      "Jumlah produk unik yang digunakan: 8452\n"
     ]
    }
   ],
   "source": [
    "# Jumlah produk unik\n",
    "jumlah_produk = df_lokal['Nama Produk'].nunique()\n",
    "print(f\"Jumlah produk unik yang digunakan: {jumlah_produk}\")"
   ]
  },
  {
   "cell_type": "code",
   "execution_count": 58,
   "id": "df09bf76",
   "metadata": {},
   "outputs": [
    {
     "name": "stdout",
     "output_type": "stream",
     "text": [
      "\n",
      "Top 10 Nama Produk yang paling sering muncul:\n",
      "Nama Produk\n",
      "PIN JSY 32mm Lagi Embuh                   4390\n",
      "Keychain JSY Mie Ayam                     4358\n",
      "Keychain Ghibli Vol 1 Kaonashi No Face    4356\n",
      "Keychain JSY Nangiso Rapopo               4299\n",
      "Keychain JSY Tetaplah Hidup               4297\n",
      "PIN JSY 32mm Izin Kerja                   4293\n",
      "Keychain JSY Agak Remuk                   4242\n",
      "Keychain Ghibli Vol 1 Totoro              4236\n",
      "Keychain JSY Nikmati Aja                  4213\n",
      "Keychain Ghibli Vol 1 Kiki & Jiji         4212\n",
      "Name: count, dtype: int64\n"
     ]
    }
   ],
   "source": [
    "# Tampilkan 10 produk teratas berdasarkan frekuensi kemunculan\n",
    "print(\"\\nTop 10 Nama Produk yang paling sering muncul:\")\n",
    "print(df_lokal['Nama Produk'].value_counts().head(10))"
   ]
  },
  {
   "cell_type": "code",
   "execution_count": 59,
   "id": "7884c490",
   "metadata": {},
   "outputs": [
    {
     "name": "stdout",
     "output_type": "stream",
     "text": [
      "\n",
      "Jumlah merk (brand) unik yang digunakan: 124\n"
     ]
    }
   ],
   "source": [
    "# Jumlah merk unik\n",
    "jumlah_merk = df_lokal['Merk'].nunique()\n",
    "print(f\"\\nJumlah merk (brand) unik yang digunakan: {jumlah_merk}\")"
   ]
  },
  {
   "cell_type": "code",
   "execution_count": 60,
   "id": "884152d1",
   "metadata": {},
   "outputs": [
    {
     "name": "stdout",
     "output_type": "stream",
     "text": [
      "\n",
      "Top 10 Merk yang paling sering muncul:\n",
      "Merk\n",
      "JARESAYANG        30728\n",
      "DONEOBSEO         17683\n",
      "WINDALEE            644\n",
      "MENTOLART           597\n",
      "KAMEIHAMEI          566\n",
      "BARKANDWOOFFLE      528\n",
      "PETAKIRENG          432\n",
      "STAMPPAPER          404\n",
      "RAHASIA             377\n",
      "CHAREO              365\n",
      "Name: count, dtype: int64\n"
     ]
    }
   ],
   "source": [
    "# Tampilkan 10 merk teratas berdasarkan frekuensi\n",
    "print(\"\\nTop 10 Merk yang paling sering muncul:\")\n",
    "print(df_lokal['Merk'].value_counts().head(10))"
   ]
  },
  {
   "cell_type": "markdown",
   "id": "236e385e",
   "metadata": {},
   "source": [
    "# Pre-Processing"
   ]
  },
  {
   "cell_type": "code",
   "execution_count": 61,
   "id": "1ac6a64d",
   "metadata": {},
   "outputs": [],
   "source": [
    "df_proc = df_lokal.copy()\n",
    "df_proc['hari'] = df_proc['Tanggal'].dt.day_name()\n",
    "df_proc['bulan'] = df_proc['Tanggal'].dt.month\n",
    "df_proc['tahun'] = df_proc['Tanggal'].dt.year\n",
    "df_proc['dayofweek'] = df_proc['Tanggal'].dt.dayofweek\n",
    "df_proc['is_weekend'] = df_proc['dayofweek'].isin([5, 6]).astype(int)"
   ]
  },
  {
   "cell_type": "code",
   "execution_count": 62,
   "id": "8a3e75f2",
   "metadata": {},
   "outputs": [],
   "source": [
    "# Urutkan kolom agar rapi\n",
    "cols_order = [\n",
    "    'Tanggal', 'hari', 'dayofweek', 'is_weekend', 'bulan', 'tahun',\n",
    "    'Kode', 'Nama Produk', 'Merk', 'Jenis Brand',\n",
    "    'Kategori 1', 'Kategori 2', 'Kategori ID',\n",
    "    'Metode Penjualan', 'Harga Jual', 'Qty', 'Diskon', 'Total Penjualan'\n",
    "]\n",
    "df_proc = df_proc[cols_order]"
   ]
  },
  {
   "cell_type": "code",
   "execution_count": 63,
   "id": "2d1af123",
   "metadata": {},
   "outputs": [
    {
     "name": "stdout",
     "output_type": "stream",
     "text": [
      "Jumlah data: 67077\n",
      "\n",
      "Informasi DataFrame:\n",
      "<class 'pandas.core.frame.DataFrame'>\n",
      "Index: 67077 entries, 0 to 295803\n",
      "Data columns (total 18 columns):\n",
      " #   Column            Non-Null Count  Dtype         \n",
      "---  ------            --------------  -----         \n",
      " 0   Tanggal           67077 non-null  datetime64[ns]\n",
      " 1   hari              67077 non-null  object        \n",
      " 2   dayofweek         67077 non-null  int32         \n",
      " 3   is_weekend        67077 non-null  int32         \n",
      " 4   bulan             67077 non-null  int32         \n",
      " 5   tahun             67077 non-null  int32         \n",
      " 6   Kode              67077 non-null  object        \n",
      " 7   Nama Produk       67077 non-null  object        \n",
      " 8   Merk              67077 non-null  object        \n",
      " 9   Jenis Brand       67077 non-null  object        \n",
      " 10  Kategori 1        67077 non-null  object        \n",
      " 11  Kategori 2        67077 non-null  object        \n",
      " 12  Kategori ID       67077 non-null  int64         \n",
      " 13  Metode Penjualan  67077 non-null  object        \n",
      " 14  Harga Jual        67077 non-null  int64         \n",
      " 15  Qty               67077 non-null  int64         \n",
      " 16  Diskon            67077 non-null  int64         \n",
      " 17  Total Penjualan   67077 non-null  float64       \n",
      "dtypes: datetime64[ns](1), float64(1), int32(4), int64(4), object(8)\n",
      "memory usage: 8.7+ MB\n",
      "None\n",
      "\n",
      "Contoh data:\n",
      "     Tanggal    hari  dayofweek  is_weekend  bulan  tahun        Kode  \\\n",
      "0 2024-01-01  Monday          0           0      1   2024  CYAKC00042   \n",
      "1 2024-01-01  Monday          0           0      1   2024  JSYPN00016   \n",
      "2 2024-01-01  Monday          0           0      1   2024  JSYPN00016   \n",
      "3 2024-01-01  Monday          0           0      1   2024  JSYKC00009   \n",
      "4 2024-01-01  Monday          0           0      1   2024  JSYKC00011   \n",
      "\n",
      "                      Nama Produk        Merk Jenis Brand  \\\n",
      "0  Keychain Seventeen Plush Hoshi      CYARTT       LOKAL   \n",
      "1         PIN JSY 32mm Lagi Embuh  JARESAYANG       LOKAL   \n",
      "2         PIN JSY 32mm Lagi Embuh  JARESAYANG       LOKAL   \n",
      "3     Keychain JSY Nangiso Rapopo  JARESAYANG       LOKAL   \n",
      "4           Keychain JSY Mie Ayam  JARESAYANG       LOKAL   \n",
      "\n",
      "                     Kategori 1                   Kategori 2  Kategori ID  \\\n",
      "0             Fanart / Fanmerch          Korea (Idol, Drama)    255340268   \n",
      "1                     Aksesoris                 Pin / Brooch    255658197   \n",
      "2                     Aksesoris                 Pin / Brooch    255658197   \n",
      "3  Gantungan Kunci, Tas, dan HP  Acrylic, Resin, Epoxy, Clay    255656946   \n",
      "4  Gantungan Kunci, Tas, dan HP  Acrylic, Resin, Epoxy, Clay    255656946   \n",
      "\n",
      "  Metode Penjualan  Harga Jual  Qty  Diskon  Total Penjualan  \n",
      "0          Offline       38000    2       5          72200.0  \n",
      "1          Offline       10000    2      30          14000.0  \n",
      "2          Offline       10000    2      30          14000.0  \n",
      "3          Offline       22000    4       0          88000.0  \n",
      "4          Offline       22000    4       0          88000.0  \n"
     ]
    }
   ],
   "source": [
    "# Cek info akhir\n",
    "print(\"Jumlah data:\", len(df_proc))\n",
    "print(\"\\nInformasi DataFrame:\")\n",
    "print(df_proc.info())\n",
    "print(\"\\nContoh data:\")\n",
    "print(df_proc.head())"
   ]
  },
  {
   "cell_type": "markdown",
   "id": "33bb7893",
   "metadata": {},
   "source": [
    "# EDA"
   ]
  },
  {
   "cell_type": "code",
   "execution_count": 64,
   "id": "57bbbd91",
   "metadata": {},
   "outputs": [
    {
     "data": {
      "image/png": "[encoded data removed]",
      "text/plain": [
       "<Figure size 800x400 with 1 Axes>"
      ]
     },
     "metadata": {},
     "output_type": "display_data"
    }
   ],
   "source": [
    "# Distribusi jumlah penjualan (Qty)\n",
    "plt.figure(figsize=(8, 4))\n",
    "sns.histplot(df_proc['Qty'], bins=30, kde=True)\n",
    "plt.title('Distribusi Qty (Jumlah Produk Terjual)')\n",
    "plt.xlabel('Qty')\n",
    "plt.ylabel('Frekuensi')\n",
    "plt.show()"
   ]
  },
  {
   "cell_type": "code",
   "execution_count": 65,
   "id": "73905af6",
   "metadata": {},
   "outputs": [
    {
     "name": "stdout",
     "output_type": "stream",
     "text": [
      "\n",
      "Distribusi Qty (Top 10):\n",
      "Qty\n",
      "1    10134\n",
      "2    13926\n",
      "3    22645\n",
      "4    15421\n",
      "5     4951\n",
      "Name: count, dtype: int64\n"
     ]
    }
   ],
   "source": [
    "# Frekuensi Qty terbanyak (top 10)\n",
    "qty_freq = df_proc['Qty'].value_counts().sort_index().head(10)\n",
    "print(\"\\nDistribusi Qty (Top 10):\")\n",
    "print(qty_freq)"
   ]
  },
  {
   "cell_type": "code",
   "execution_count": 66,
   "id": "f277d369",
   "metadata": {},
   "outputs": [
    {
     "name": "stdout",
     "output_type": "stream",
     "text": [
      "Statistik deskriptif Qty:\n",
      " count    67077.000000\n",
      "mean         2.867749\n",
      "std          1.148740\n",
      "min          1.000000\n",
      "25%          2.000000\n",
      "50%          3.000000\n",
      "75%          4.000000\n",
      "max          5.000000\n",
      "Name: Qty, dtype: float64\n"
     ]
    }
   ],
   "source": [
    "# Statistik deskriptif Qty\n",
    "print(\"Statistik deskriptif Qty:\\n\", df_proc['Qty'].describe())"
   ]
  },
  {
   "cell_type": "code",
   "execution_count": 67,
   "id": "f036a3ed",
   "metadata": {},
   "outputs": [
    {
     "name": "stdout",
     "output_type": "stream",
     "text": [
      "\n",
      "Top 10 Produk berdasarkan Total Penjualan:\n",
      " Nama Produk\n",
      "Popsocket Crayon Sinchan Sinchan Mirror    440096000.0\n",
      "Keychain Ghibli Vol 1 Kaonashi No Face     410400000.0\n",
      "Keychain Ghibli Vol 1 Totoro               397974000.0\n",
      "Keychain Ghibli Vol 1 Kiki & Jiji          397489500.0\n",
      "Keychain JSY Mie Ayam                      318956000.0\n",
      "Keychain JSY Nangiso Rapopo                314006000.0\n",
      "Keychain JSY Tetaplah Hidup                310398000.0\n",
      "Keychain JSY Agak Remuk                    310398000.0\n",
      "Keychain JSY Nikmati Aja                   308792000.0\n",
      "PIN JSY 32mm Lagi Embuh                    102088000.0\n",
      "Name: Total Penjualan, dtype: float64\n"
     ]
    }
   ],
   "source": [
    "# Top 10 produk dengan penjualan tertinggi (berdasarkan total penjualan)\n",
    "top_produk = df_proc.groupby('Nama Produk')['Total Penjualan'].sum().sort_values(ascending=False).head(10)\n",
    "print(\"\\nTop 10 Produk berdasarkan Total Penjualan:\\n\", top_produk)"
   ]
  },
  {
   "cell_type": "code",
   "execution_count": 68,
   "id": "5d2cd964",
   "metadata": {},
   "outputs": [
    {
     "data": {
      "image/png": "[encoded data removed]",
      "text/plain": [
       "<Figure size 800x600 with 2 Axes>"
      ]
     },
     "metadata": {},
     "output_type": "display_data"
    }
   ],
   "source": [
    "# Korelasi numerik\n",
    "plt.figure(figsize=(8, 6))\n",
    "sns.heatmap(df_proc[['Harga Jual', 'Qty', 'Diskon', 'Total Penjualan']].corr(), annot=True, cmap='coolwarm')\n",
    "plt.title('Korelasi Antar Fitur Numerik')\n",
    "plt.show()"
   ]
  },
  {
   "cell_type": "code",
   "execution_count": 69,
   "id": "4be6dd52",
   "metadata": {},
   "outputs": [
    {
     "name": "stdout",
     "output_type": "stream",
     "text": [
      "\n",
      "Matriks Korelasi Antar Fitur Numerik:\n",
      "                 Harga Jual       Qty    Diskon  Total Penjualan\n",
      "Harga Jual         1.000000 -0.033369 -0.294459         0.638026\n",
      "Qty               -0.033369  1.000000 -0.137946         0.617498\n",
      "Diskon            -0.294459 -0.137946  1.000000        -0.532890\n",
      "Total Penjualan    0.638026  0.617498 -0.532890         1.000000\n"
     ]
    }
   ],
   "source": [
    "# Korelasi antar fitur numerik\n",
    "numeric_cols = ['Harga Jual', 'Qty', 'Diskon', 'Total Penjualan']\n",
    "corr_matrix = df_proc[numeric_cols].corr()\n",
    "\n",
    "print(\"\\nMatriks Korelasi Antar Fitur Numerik:\")\n",
    "print(corr_matrix)"
   ]
  },
  {
   "cell_type": "markdown",
   "id": "d11e7e67",
   "metadata": {},
   "source": [
    "# Feature Engineering"
   ]
  },
  {
   "cell_type": "code",
   "execution_count": 70,
   "id": "57d7e5e3",
   "metadata": {},
   "outputs": [],
   "source": [
    "# Salin ulang data dari df_proc\n",
    "df_model_qty = df_proc.copy()"
   ]
  },
  {
   "cell_type": "code",
   "execution_count": 71,
   "id": "7acb2e57",
   "metadata": {},
   "outputs": [],
   "source": [
    "# Drop kolom yang tidak relevan (Qty dan Total Penjualan masih disimpan sementara)\n",
    "df_model_qty.drop(columns=[\n",
    "    'Tanggal', 'hari', 'Nama Produk', 'Jenis Brand',\n",
    "    'Kategori 1', 'Kategori 2'\n",
    "], inplace=True)\n",
    "kode_produk = df_model_qty['Kode'].copy()"
   ]
  },
  {
   "cell_type": "code",
   "execution_count": 72,
   "id": "3b4e8b5e",
   "metadata": {},
   "outputs": [
    {
     "name": "stdout",
     "output_type": "stream",
     "text": [
      "Kolom yang digunakan untuk modeling:\n",
      "Index(['dayofweek', 'is_weekend', 'bulan', 'tahun', 'Kode', 'Merk',\n",
      "       'Kategori ID', 'Metode Penjualan', 'Harga Jual', 'Qty', 'Diskon',\n",
      "       'Total Penjualan'],\n",
      "      dtype='object')\n"
     ]
    }
   ],
   "source": [
    "# Tampilkan kolom akhir\n",
    "print(\"Kolom yang digunakan untuk modeling:\")\n",
    "print(df_model_qty.columns)"
   ]
  },
  {
   "cell_type": "code",
   "execution_count": 73,
   "id": "cf6b1544",
   "metadata": {},
   "outputs": [
    {
     "data": {
      "text/plain": [
       "['encoder_metode.pkl']"
      ]
     },
     "execution_count": 73,
     "metadata": {},
     "output_type": "execute_result"
    }
   ],
   "source": [
    "le_merk = LabelEncoder()\n",
    "le_metode = LabelEncoder()\n",
    "\n",
    "# Encoding label\n",
    "df_model_qty['Merk'] = le_merk.fit_transform(df_model_qty['Merk'])\n",
    "df_model_qty['Metode Penjualan'] = le_metode.fit_transform(df_model_qty['Metode Penjualan'])\n",
    "\n",
    "# Simpan encoder\n",
    "joblib.dump(le_merk, 'encoder_merk.pkl')\n",
    "joblib.dump(le_metode, 'encoder_metode.pkl')"
   ]
  },
  {
   "cell_type": "code",
   "execution_count": 74,
   "id": "e94fd787",
   "metadata": {},
   "outputs": [],
   "source": [
    "# Drop 'Kode' karena bukan fitur\n",
    "df_model_qty.drop(columns=['Kode'], inplace=True)"
   ]
  },
  {
   "cell_type": "code",
   "execution_count": 75,
   "id": "770f4854",
   "metadata": {},
   "outputs": [
    {
     "name": "stdout",
     "output_type": "stream",
     "text": [
      "Contoh data setelah encoding:\n",
      "   dayofweek  is_weekend  bulan  tahun  Merk  Kategori ID  Metode Penjualan  \\\n",
      "0          0           0      1   2024    27    255340268                 0   \n",
      "1          0           0      1   2024    48    255658197                 0   \n",
      "2          0           0      1   2024    48    255658197                 0   \n",
      "3          0           0      1   2024    48    255656946                 0   \n",
      "4          0           0      1   2024    48    255656946                 0   \n",
      "\n",
      "   Harga Jual  Qty  Diskon  Total Penjualan  \n",
      "0       38000    2       5          72200.0  \n",
      "1       10000    2      30          14000.0  \n",
      "2       10000    2      30          14000.0  \n",
      "3       22000    4       0          88000.0  \n",
      "4       22000    4       0          88000.0  \n"
     ]
    }
   ],
   "source": [
    "# Cek hasil\n",
    "print(\"Contoh data setelah encoding:\")\n",
    "print(df_model_qty.head())"
   ]
  },
  {
   "cell_type": "markdown",
   "id": "dfcb21e3",
   "metadata": {},
   "source": [
    "# Split Data"
   ]
  },
  {
   "cell_type": "code",
   "execution_count": 76,
   "id": "7f9a559d",
   "metadata": {},
   "outputs": [],
   "source": [
    "X = df_model_qty.drop(columns=['Qty', 'Total Penjualan'])  # fitur input\n",
    "y = df_model_qty['Qty']  # target prediksi"
   ]
  },
  {
   "cell_type": "code",
   "execution_count": 77,
   "id": "0f4fd319",
   "metadata": {},
   "outputs": [],
   "source": [
    "# Simpan kode produk sebelum dihapus dari df_model_qty\n",
    "kode_produk_all = kode_produk.copy()\n",
    "\n",
    "# Split data X, y, dan kode_produk agar index sesuai\n",
    "X_train, X_test, y_train, y_test, kode_train, kode_test = train_test_split(\n",
    "    X, y, kode_produk_all, test_size=0.2, random_state=42\n",
    ")"
   ]
  },
  {
   "cell_type": "code",
   "execution_count": 78,
   "id": "958829ac",
   "metadata": {},
   "outputs": [
    {
     "name": "stdout",
     "output_type": "stream",
     "text": [
      "Ukuran data training: (53661, 9)\n",
      "Ukuran data testing : (13416, 9)\n"
     ]
    }
   ],
   "source": [
    "# Cek bentuk data\n",
    "print(\"Ukuran data training:\", X_train.shape)\n",
    "print(\"Ukuran data testing :\", X_test.shape)"
   ]
  },
  {
   "cell_type": "markdown",
   "id": "cb9ff6a9",
   "metadata": {},
   "source": [
    "# Modeling"
   ]
  },
  {
   "cell_type": "code",
   "execution_count": 79,
   "id": "6d94e755",
   "metadata": {},
   "outputs": [
    {
     "data": {
      "text/html": [
       "<style>#sk-container-id-2 {\n",
       "  /* Definition of color scheme common for light and dark mode */\n",
       "  --sklearn-color-text: black;\n",
       "  --sklearn-color-line: gray;\n",
       "  /* Definition of color scheme for unfitted estimators */\n",
       "  --sklearn-color-unfitted-level-0: #fff5e6;\n",
       "  --sklearn-color-unfitted-level-1: #f6e4d2;\n",
       "  --sklearn-color-unfitted-level-2: #ffe0b3;\n",
       "  --sklearn-color-unfitted-level-3: chocolate;\n",
       "  /* Definition of color scheme for fitted estimators */\n",
       "  --sklearn-color-fitted-level-0: #f0f8ff;\n",
       "  --sklearn-color-fitted-level-1: #d4ebff;\n",
       "  --sklearn-color-fitted-level-2: #b3dbfd;\n",
       "  --sklearn-color-fitted-level-3: cornflowerblue;\n",
       "\n",
       "  /* Specific color for light theme */\n",
       "  --sklearn-color-text-on-default-background: var(--sg-text-color, var(--theme-code-foreground, var(--jp-content-font-color1, black)));\n",
       "  --sklearn-color-background: var(--sg-background-color, var(--theme-background, var(--jp-layout-color0, white)));\n",
       "  --sklearn-color-border-box: var(--sg-text-color, var(--theme-code-foreground, var(--jp-content-font-color1, black)));\n",
       "  --sklearn-color-icon: #696969;\n",
       "\n",
       "  @media (prefers-color-scheme: dark) {\n",
       "    /* Redefinition of color scheme for dark theme */\n",
       "    --sklearn-color-text-on-default-background: var(--sg-text-color, var(--theme-code-foreground, var(--jp-content-font-color1, white)));\n",
       "    --sklearn-color-background: var(--sg-background-color, var(--theme-background, var(--jp-layout-color0, #111)));\n",
       "    --sklearn-color-border-box: var(--sg-text-color, var(--theme-code-foreground, var(--jp-content-font-color1, white)));\n",
       "    --sklearn-color-icon: #878787;\n",
       "  }\n",
       "}\n",
       "\n",
       "#sk-container-id-2 {\n",
       "  color: var(--sklearn-color-text);\n",
       "}\n",
       "\n",
       "#sk-container-id-2 pre {\n",
       "  padding: 0;\n",
       "}\n",
       "\n",
       "#sk-container-id-2 input.sk-hidden--visually {\n",
       "  border: 0;\n",
       "  clip: rect(1px 1px 1px 1px);\n",
       "  clip: rect(1px, 1px, 1px, 1px);\n",
       "  height: 1px;\n",
       "  margin: -1px;\n",
       "  overflow: hidden;\n",
       "  padding: 0;\n",
       "  position: absolute;\n",
       "  width: 1px;\n",
       "}\n",
       "\n",
       "#sk-container-id-2 div.sk-dashed-wrapped {\n",
       "  border: 1px dashed var(--sklearn-color-line);\n",
       "  margin: 0 0.4em 0.5em 0.4em;\n",
       "  box-sizing: border-box;\n",
       "  padding-bottom: 0.4em;\n",
       "  background-color: var(--sklearn-color-background);\n",
       "}\n",
       "\n",
       "#sk-container-id-2 div.sk-container {\n",
       "  /* jupyter's `normalize.less` sets `[hidden] { display: none; }`\n",
       "     but bootstrap.min.css set `[hidden] { display: none !important; }`\n",
       "     so we also need the `!important` here to be able to override the\n",
       "     default hidden behavior on the sphinx rendered scikit-learn.org.\n",
       "     See: https://github.com/scikit-learn/scikit-learn/issues/21755 */\n",
       "  display: inline-block !important;\n",
       "  position: relative;\n",
       "}\n",
       "\n",
       "#sk-container-id-2 div.sk-text-repr-fallback {\n",
       "  display: none;\n",
       "}\n",
       "\n",
       "div.sk-parallel-item,\n",
       "div.sk-serial,\n",
       "div.sk-item {\n",
       "  /* draw centered vertical line to link estimators */\n",
       "  background-image: linear-gradient(var(--sklearn-color-text-on-default-background), var(--sklearn-color-text-on-default-background));\n",
       "  background-size: 2px 100%;\n",
       "  background-repeat: no-repeat;\n",
       "  background-position: center center;\n",
       "}\n",
       "\n",
       "/* Parallel-specific style estimator block */\n",
       "\n",
       "#sk-container-id-2 div.sk-parallel-item::after {\n",
       "  content: \"\";\n",
       "  width: 100%;\n",
       "  border-bottom: 2px solid var(--sklearn-color-text-on-default-background);\n",
       "  flex-grow: 1;\n",
       "}\n",
       "\n",
       "#sk-container-id-2 div.sk-parallel {\n",
       "  display: flex;\n",
       "  align-items: stretch;\n",
       "  justify-content: center;\n",
       "  background-color: var(--sklearn-color-background);\n",
       "  position: relative;\n",
       "}\n",
       "\n",
       "#sk-container-id-2 div.sk-parallel-item {\n",
       "  display: flex;\n",
       "  flex-direction: column;\n",
       "}\n",
       "\n",
       "#sk-container-id-2 div.sk-parallel-item:first-child::after {\n",
       "  align-self: flex-end;\n",
       "  width: 50%;\n",
       "}\n",
       "\n",
       "#sk-container-id-2 div.sk-parallel-item:last-child::after {\n",
       "  align-self: flex-start;\n",
       "  width: 50%;\n",
       "}\n",
       "\n",
       "#sk-container-id-2 div.sk-parallel-item:only-child::after {\n",
       "  width: 0;\n",
       "}\n",
       "\n",
       "/* Serial-specific style estimator block */\n",
       "\n",
       "#sk-container-id-2 div.sk-serial {\n",
       "  display: flex;\n",
       "  flex-direction: column;\n",
       "  align-items: center;\n",
       "  background-color: var(--sklearn-color-background);\n",
       "  padding-right: 1em;\n",
       "  padding-left: 1em;\n",
       "}\n",
       "\n",
       "\n",
       "/* Toggleable style: style used for estimator/Pipeline/ColumnTransformer box that is\n",
       "clickable and can be expanded/collapsed.\n",
       "- Pipeline and ColumnTransformer use this feature and define the default style\n",
       "- Estimators will overwrite some part of the style using the `sk-estimator` class\n",
       "*/\n",
       "\n",
       "/* Pipeline and ColumnTransformer style (default) */\n",
       "\n",
       "#sk-container-id-2 div.sk-toggleable {\n",
       "  /* Default theme specific background. It is overwritten whether we have a\n",
       "  specific estimator or a Pipeline/ColumnTransformer */\n",
       "  background-color: var(--sklearn-color-background);\n",
       "}\n",
       "\n",
       "/* Toggleable label */\n",
       "#sk-container-id-2 label.sk-toggleable__label {\n",
       "  cursor: pointer;\n",
       "  display: block;\n",
       "  width: 100%;\n",
       "  margin-bottom: 0;\n",
       "  padding: 0.5em;\n",
       "  box-sizing: border-box;\n",
       "  text-align: center;\n",
       "}\n",
       "\n",
       "#sk-container-id-2 label.sk-toggleable__label-arrow:before {\n",
       "  /* Arrow on the left of the label */\n",
       "  content: \"▸\";\n",
       "  float: left;\n",
       "  margin-right: 0.25em;\n",
       "  color: var(--sklearn-color-icon);\n",
       "}\n",
       "\n",
       "#sk-container-id-2 label.sk-toggleable__label-arrow:hover:before {\n",
       "  color: var(--sklearn-color-text);\n",
       "}\n",
       "\n",
       "/* Toggleable content - dropdown */\n",
       "\n",
       "#sk-container-id-2 div.sk-toggleable__content {\n",
       "  max-height: 0;\n",
       "  max-width: 0;\n",
       "  overflow: hidden;\n",
       "  text-align: left;\n",
       "  /* unfitted */\n",
       "  background-color: var(--sklearn-color-unfitted-level-0);\n",
       "}\n",
       "\n",
       "#sk-container-id-2 div.sk-toggleable__content.fitted {\n",
       "  /* fitted */\n",
       "  background-color: var(--sklearn-color-fitted-level-0);\n",
       "}\n",
       "\n",
       "#sk-container-id-2 div.sk-toggleable__content pre {\n",
       "  margin: 0.2em;\n",
       "  border-radius: 0.25em;\n",
       "  color: var(--sklearn-color-text);\n",
       "  /* unfitted */\n",
       "  background-color: var(--sklearn-color-unfitted-level-0);\n",
       "}\n",
       "\n",
       "#sk-container-id-2 div.sk-toggleable__content.fitted pre {\n",
       "  /* unfitted */\n",
       "  background-color: var(--sklearn-color-fitted-level-0);\n",
       "}\n",
       "\n",
       "#sk-container-id-2 input.sk-toggleable__control:checked~div.sk-toggleable__content {\n",
       "  /* Expand drop-down */\n",
       "  max-height: 200px;\n",
       "  max-width: 100%;\n",
       "  overflow: auto;\n",
       "}\n",
       "\n",
       "#sk-container-id-2 input.sk-toggleable__control:checked~label.sk-toggleable__label-arrow:before {\n",
       "  content: \"▾\";\n",
       "}\n",
       "\n",
       "/* Pipeline/ColumnTransformer-specific style */\n",
       "\n",
       "#sk-container-id-2 div.sk-label input.sk-toggleable__control:checked~label.sk-toggleable__label {\n",
       "  color: var(--sklearn-color-text);\n",
       "  background-color: var(--sklearn-color-unfitted-level-2);\n",
       "}\n",
       "\n",
       "#sk-container-id-2 div.sk-label.fitted input.sk-toggleable__control:checked~label.sk-toggleable__label {\n",
       "  background-color: var(--sklearn-color-fitted-level-2);\n",
       "}\n",
       "\n",
       "/* Estimator-specific style */\n",
       "\n",
       "/* Colorize estimator box */\n",
       "#sk-container-id-2 div.sk-estimator input.sk-toggleable__control:checked~label.sk-toggleable__label {\n",
       "  /* unfitted */\n",
       "  background-color: var(--sklearn-color-unfitted-level-2);\n",
       "}\n",
       "\n",
       "#sk-container-id-2 div.sk-estimator.fitted input.sk-toggleable__control:checked~label.sk-toggleable__label {\n",
       "  /* fitted */\n",
       "  background-color: var(--sklearn-color-fitted-level-2);\n",
       "}\n",
       "\n",
       "#sk-container-id-2 div.sk-label label.sk-toggleable__label,\n",
       "#sk-container-id-2 div.sk-label label {\n",
       "  /* The background is the default theme color */\n",
       "  color: var(--sklearn-color-text-on-default-background);\n",
       "}\n",
       "\n",
       "/* On hover, darken the color of the background */\n",
       "#sk-container-id-2 div.sk-label:hover label.sk-toggleable__label {\n",
       "  color: var(--sklearn-color-text);\n",
       "  background-color: var(--sklearn-color-unfitted-level-2);\n",
       "}\n",
       "\n",
       "/* Label box, darken color on hover, fitted */\n",
       "#sk-container-id-2 div.sk-label.fitted:hover label.sk-toggleable__label.fitted {\n",
       "  color: var(--sklearn-color-text);\n",
       "  background-color: var(--sklearn-color-fitted-level-2);\n",
       "}\n",
       "\n",
       "/* Estimator label */\n",
       "\n",
       "#sk-container-id-2 div.sk-label label {\n",
       "  font-family: monospace;\n",
       "  font-weight: bold;\n",
       "  display: inline-block;\n",
       "  line-height: 1.2em;\n",
       "}\n",
       "\n",
       "#sk-container-id-2 div.sk-label-container {\n",
       "  text-align: center;\n",
       "}\n",
       "\n",
       "/* Estimator-specific */\n",
       "#sk-container-id-2 div.sk-estimator {\n",
       "  font-family: monospace;\n",
       "  border: 1px dotted var(--sklearn-color-border-box);\n",
       "  border-radius: 0.25em;\n",
       "  box-sizing: border-box;\n",
       "  margin-bottom: 0.5em;\n",
       "  /* unfitted */\n",
       "  background-color: var(--sklearn-color-unfitted-level-0);\n",
       "}\n",
       "\n",
       "#sk-container-id-2 div.sk-estimator.fitted {\n",
       "  /* fitted */\n",
       "  background-color: var(--sklearn-color-fitted-level-0);\n",
       "}\n",
       "\n",
       "/* on hover */\n",
       "#sk-container-id-2 div.sk-estimator:hover {\n",
       "  /* unfitted */\n",
       "  background-color: var(--sklearn-color-unfitted-level-2);\n",
       "}\n",
       "\n",
       "#sk-container-id-2 div.sk-estimator.fitted:hover {\n",
       "  /* fitted */\n",
       "  background-color: var(--sklearn-color-fitted-level-2);\n",
       "}\n",
       "\n",
       "/* Specification for estimator info (e.g. \"i\" and \"?\") */\n",
       "\n",
       "/* Common style for \"i\" and \"?\" */\n",
       "\n",
       ".sk-estimator-doc-link,\n",
       "a:link.sk-estimator-doc-link,\n",
       "a:visited.sk-estimator-doc-link {\n",
       "  float: right;\n",
       "  font-size: smaller;\n",
       "  line-height: 1em;\n",
       "  font-family: monospace;\n",
       "  background-color: var(--sklearn-color-background);\n",
       "  border-radius: 1em;\n",
       "  height: 1em;\n",
       "  width: 1em;\n",
       "  text-decoration: none !important;\n",
       "  margin-left: 1ex;\n",
       "  /* unfitted */\n",
       "  border: var(--sklearn-color-unfitted-level-1) 1pt solid;\n",
       "  color: var(--sklearn-color-unfitted-level-1);\n",
       "}\n",
       "\n",
       ".sk-estimator-doc-link.fitted,\n",
       "a:link.sk-estimator-doc-link.fitted,\n",
       "a:visited.sk-estimator-doc-link.fitted {\n",
       "  /* fitted */\n",
       "  border: var(--sklearn-color-fitted-level-1) 1pt solid;\n",
       "  color: var(--sklearn-color-fitted-level-1);\n",
       "}\n",
       "\n",
       "/* On hover */\n",
       "div.sk-estimator:hover .sk-estimator-doc-link:hover,\n",
       ".sk-estimator-doc-link:hover,\n",
       "div.sk-label-container:hover .sk-estimator-doc-link:hover,\n",
       ".sk-estimator-doc-link:hover {\n",
       "  /* unfitted */\n",
       "  background-color: var(--sklearn-color-unfitted-level-3);\n",
       "  color: var(--sklearn-color-background);\n",
       "  text-decoration: none;\n",
       "}\n",
       "\n",
       "div.sk-estimator.fitted:hover .sk-estimator-doc-link.fitted:hover,\n",
       ".sk-estimator-doc-link.fitted:hover,\n",
       "div.sk-label-container:hover .sk-estimator-doc-link.fitted:hover,\n",
       ".sk-estimator-doc-link.fitted:hover {\n",
       "  /* fitted */\n",
       "  background-color: var(--sklearn-color-fitted-level-3);\n",
       "  color: var(--sklearn-color-background);\n",
       "  text-decoration: none;\n",
       "}\n",
       "\n",
       "/* Span, style for the box shown on hovering the info icon */\n",
       ".sk-estimator-doc-link span {\n",
       "  display: none;\n",
       "  z-index: 9999;\n",
       "  position: relative;\n",
       "  font-weight: normal;\n",
       "  right: .2ex;\n",
       "  padding: .5ex;\n",
       "  margin: .5ex;\n",
       "  width: min-content;\n",
       "  min-width: 20ex;\n",
       "  max-width: 50ex;\n",
       "  color: var(--sklearn-color-text);\n",
       "  box-shadow: 2pt 2pt 4pt #999;\n",
       "  /* unfitted */\n",
       "  background: var(--sklearn-color-unfitted-level-0);\n",
       "  border: .5pt solid var(--sklearn-color-unfitted-level-3);\n",
       "}\n",
       "\n",
       ".sk-estimator-doc-link.fitted span {\n",
       "  /* fitted */\n",
       "  background: var(--sklearn-color-fitted-level-0);\n",
       "  border: var(--sklearn-color-fitted-level-3);\n",
       "}\n",
       "\n",
       ".sk-estimator-doc-link:hover span {\n",
       "  display: block;\n",
       "}\n",
       "\n",
       "/* \"?\"-specific style due to the `<a>` HTML tag */\n",
       "\n",
       "#sk-container-id-2 a.estimator_doc_link {\n",
       "  float: right;\n",
       "  font-size: 1rem;\n",
       "  line-height: 1em;\n",
       "  font-family: monospace;\n",
       "  background-color: var(--sklearn-color-background);\n",
       "  border-radius: 1rem;\n",
       "  height: 1rem;\n",
       "  width: 1rem;\n",
       "  text-decoration: none;\n",
       "  /* unfitted */\n",
       "  color: var(--sklearn-color-unfitted-level-1);\n",
       "  border: var(--sklearn-color-unfitted-level-1) 1pt solid;\n",
       "}\n",
       "\n",
       "#sk-container-id-2 a.estimator_doc_link.fitted {\n",
       "  /* fitted */\n",
       "  border: var(--sklearn-color-fitted-level-1) 1pt solid;\n",
       "  color: var(--sklearn-color-fitted-level-1);\n",
       "}\n",
       "\n",
       "/* On hover */\n",
       "#sk-container-id-2 a.estimator_doc_link:hover {\n",
       "  /* unfitted */\n",
       "  background-color: var(--sklearn-color-unfitted-level-3);\n",
       "  color: var(--sklearn-color-background);\n",
       "  text-decoration: none;\n",
       "}\n",
       "\n",
       "#sk-container-id-2 a.estimator_doc_link.fitted:hover {\n",
       "  /* fitted */\n",
       "  background-color: var(--sklearn-color-fitted-level-3);\n",
       "}\n",
       "</style><div id=\"sk-container-id-2\" class=\"sk-top-container\"><div class=\"sk-text-repr-fallback\"><pre>XGBRegressor(base_score=None, booster=None, callbacks=None,\n",
       "             colsample_bylevel=None, colsample_bynode=None,\n",
       "             colsample_bytree=None, device=None, early_stopping_rounds=None,\n",
       "             enable_categorical=False, eval_metric=None, feature_types=None,\n",
       "             feature_weights=None, gamma=None, grow_policy=None,\n",
       "             importance_type=None, interaction_constraints=None,\n",
       "             learning_rate=None, max_bin=None, max_cat_threshold=None,\n",
       "             max_cat_to_onehot=None, max_delta_step=None, max_depth=None,\n",
       "             max_leaves=None, min_child_weight=None, missing=nan,\n",
       "             monotone_constraints=None, multi_strategy=None, n_estimators=None,\n",
       "             n_jobs=None, num_parallel_tree=None, ...)</pre><b>In a Jupyter environment, please rerun this cell to show the HTML representation or trust the notebook. <br />On GitHub, the HTML representation is unable to render, please try loading this page with nbviewer.org.</b></div><div class=\"sk-container\" hidden><div class=\"sk-item\"><div class=\"sk-estimator fitted sk-toggleable\"><input class=\"sk-toggleable__control sk-hidden--visually\" id=\"sk-estimator-id-2\" type=\"checkbox\" checked><label for=\"sk-estimator-id-2\" class=\"sk-toggleable__label fitted sk-toggleable__label-arrow fitted\">&nbsp;&nbsp;XGBRegressor<a class=\"sk-estimator-doc-link fitted\" rel=\"noreferrer\" target=\"_blank\" href=\"https://xgboost.readthedocs.io/en/release_3.0.0/python/python_api.html#xgboost.XGBRegressor\">?<span>Documentation for XGBRegressor</span></a><span class=\"sk-estimator-doc-link fitted\">i<span>Fitted</span></span></label><div class=\"sk-toggleable__content fitted\"><pre>XGBRegressor(base_score=None, booster=None, callbacks=None,\n",
       "             colsample_bylevel=None, colsample_bynode=None,\n",
       "             colsample_bytree=None, device=None, early_stopping_rounds=None,\n",
       "             enable_categorical=False, eval_metric=None, feature_types=None,\n",
       "             feature_weights=None, gamma=None, grow_policy=None,\n",
       "             importance_type=None, interaction_constraints=None,\n",
       "             learning_rate=None, max_bin=None, max_cat_threshold=None,\n",
       "             max_cat_to_onehot=None, max_delta_step=None, max_depth=None,\n",
       "             max_leaves=None, min_child_weight=None, missing=nan,\n",
       "             monotone_constraints=None, multi_strategy=None, n_estimators=None,\n",
       "             n_jobs=None, num_parallel_tree=None, ...)</pre></div> </div></div></div></div>"
      ],
      "text/plain": [
       "XGBRegressor(base_score=None, booster=None, callbacks=None,\n",
       "             colsample_bylevel=None, colsample_bynode=None,\n",
       "             colsample_bytree=None, device=None, early_stopping_rounds=None,\n",
       "             enable_categorical=False, eval_metric=None, feature_types=None,\n",
       "             feature_weights=None, gamma=None, grow_policy=None,\n",
       "             importance_type=None, interaction_constraints=None,\n",
       "             learning_rate=None, max_bin=None, max_cat_threshold=None,\n",
       "             max_cat_to_onehot=None, max_delta_step=None, max_depth=None,\n",
       "             max_leaves=None, min_child_weight=None, missing=nan,\n",
       "             monotone_constraints=None, multi_strategy=None, n_estimators=None,\n",
       "             n_jobs=None, num_parallel_tree=None, ...)"
      ]
     },
     "execution_count": 79,
     "metadata": {},
     "output_type": "execute_result"
    }
   ],
   "source": [
    "# Inisialisasi model XGBoost dengan parameter default\n",
    "model_qty = XGBRegressor(random_state=42)\n",
    "\n",
    "# Latih model pada data training\n",
    "model_qty.fit(X_train, y_train)"
   ]
  },
  {
   "cell_type": "markdown",
   "id": "09251286",
   "metadata": {},
   "source": [
    "# Evaluation"
   ]
  },
  {
   "cell_type": "code",
   "execution_count": null,
   "id": "e66b40a9",
   "metadata": {},
   "outputs": [
    {
     "name": "stdout",
     "output_type": "stream",
     "text": [
      "MAE: 0.7419\n",
      "RMSE: 0.8837\n"
     ]
    }
   ],
   "source": [
    "# Prediksi pada data testing\n",
    "y_pred = model_qty.predict(X_test)\n",
    "# Evaluasi performa model\n",
    "mae = mean_absolute_error(y_test, y_pred)\n",
    "rmse = np.sqrt(mean_squared_error(y_test, y_pred))\n",
    "\n",
    "print(f\"MAE: {mae:.4f}\")\n",
    "print(f\"RMSE: {rmse:.4f}\")"
   ]
  },
  {
   "cell_type": "markdown",
   "id": "7df0cfd2",
   "metadata": {},
   "source": [
    "Mean Absolute Error (MAE) sebesar 0.7419 menunjukkan bahwa secara rata-rata, hasil prediksi jumlah produk terjual (Qty) meleset sekitar 0.74 unit dari nilai sebenarnya. Mengingat bahwa nilai Qty dalam dataset berkisar antara 1 hingga 5, maka nilai kesalahan ini tergolong cukup rendah dan dapat diterima dalam konteks operasional toko. Artinya, prediksi model sudah cukup mendekati kenyataan dalam skala satuan produk yang kecil.\n",
    "\n",
    "Namun demikian, nilai MAE yang mendekati 1 bisa juga menandakan bahwa model masih mengalami kesulitan dalam membedakan jumlah pembelian antara pelanggan yang membeli dalam jumlah sedikit (misal 1–2 unit) dengan yang membeli dalam jumlah lebih banyak (4–5 unit). Hal ini penting untuk diperhatikan, terutama jika toko perlu mempersiapkan stok berdasarkan jumlah unit secara akurat.\n",
    "\n",
    "Root Mean Squared Error (RMSE) sebesar 0.8837 memberikan gambaran bahwa rata-rata deviasi prediksi terhadap nilai aktual adalah sekitar 0.88 unit, dengan bobot penalti yang lebih besar untuk kesalahan prediksi ekstrem. Nilai ini memang sedikit lebih tinggi dari MAE, sebagaimana diharapkan, tetapi masih dalam kisaran yang wajar dan menunjukkan tidak adanya error ekstrem atau outlier besar yang mendominasi prediksi."
   ]
  },
  {
   "cell_type": "markdown",
   "id": "b02a339e",
   "metadata": {},
   "source": [
    "# Visualization"
   ]
  },
  {
   "cell_type": "code",
   "execution_count": 81,
   "id": "7002671f",
   "metadata": {},
   "outputs": [
    {
     "data": {
      "image/png": "[encoded data removed]",
      "text/plain": [
       "<Figure size 800x600 with 1 Axes>"
      ]
     },
     "metadata": {},
     "output_type": "display_data"
    }
   ],
   "source": [
    "plt.figure(figsize=(8, 6))\n",
    "plt.scatter(y_test, y_pred, alpha=0.3, color='teal')\n",
    "plt.plot([y_test.min(), y_test.max()], [y_test.min(), y_test.max()], color='red', linestyle='--')\n",
    "plt.title(\"Perbandingan Qty Aktual vs Prediksi\", fontsize=14)\n",
    "plt.xlabel(\"Qty Aktual\")\n",
    "plt.ylabel(\"Qty Prediksi\")\n",
    "plt.grid(True)\n",
    "plt.tight_layout()\n",
    "plt.show()"
   ]
  },
  {
   "cell_type": "markdown",
   "id": "800249b9",
   "metadata": {},
   "source": [
    "Scatter plot memperlihatkan bahwa sebagian besar prediksi mengikuti garis identitas (y = x), khususnya pada nilai Qty antara 2 hingga 4. Namun, mulai tampak deviasi pada nilai Qty tinggi, di mana prediksi menyusut ke arah tengah (regresi menuju rata-rata). Ini mengindikasikan bahwa model belum cukup fleksibel dalam menangani variasi permintaan yang tinggi, dan cenderung “bermain aman” di sekitar nilai tengah. Akurasi prediksi cenderung menurun saat nilai aktual lebih ekstrem, yang berarti keputusan restock untuk produk-produk tertentu masih memerlukan verifikasi tambahan secara manual."
   ]
  },
  {
   "cell_type": "code",
   "execution_count": 82,
   "id": "caa88eac",
   "metadata": {},
   "outputs": [
    {
     "data": {
      "image/png": "[encoded data removed]",
      "text/plain": [
       "<Figure size 800x500 with 1 Axes>"
      ]
     },
     "metadata": {},
     "output_type": "display_data"
    }
   ],
   "source": [
    "error = y_test - y_pred\n",
    "plt.figure(figsize=(8, 5))\n",
    "plt.hist(error, bins=20, color='salmon', edgecolor='black')\n",
    "plt.title(\"Distribusi Error Prediksi (Qty Aktual - Prediksi)\")\n",
    "plt.xlabel(\"Selisih (Error)\")\n",
    "plt.ylabel(\"Frekuensi\")\n",
    "plt.grid(True)\n",
    "plt.tight_layout()\n",
    "plt.show()\n"
   ]
  },
  {
   "cell_type": "markdown",
   "id": "dc86e3c6",
   "metadata": {},
   "source": [
    "Histogram error menunjukkan bahwa sebagian besar error berada dekat dengan nol, yang berarti model secara umum memberikan prediksi yang cukup akurat. Namun, distribusi error masih menyisakan penyebaran ke kiri dan kanan, mencerminkan adanya prediksi yang terlalu rendah maupun terlalu tinggi. Penyebaran yang tidak sepenuhnya simetris juga menandakan bahwa model terkadang bias terhadap nilai rata-rata, dan belum mampu sepenuhnya membedakan karakteristik permintaan untuk semua jenis produk. Ini menunjukkan perlunya peningkatan presisi, terutama untuk kasus-kasus penjualan yang menyimpang dari pola umum."
   ]
  },
  {
   "cell_type": "code",
   "execution_count": 83,
   "id": "0aa5d66b",
   "metadata": {},
   "outputs": [
    {
     "data": {
      "image/png": "[encoded data removed]",
      "text/plain": [
       "<Figure size 800x500 with 1 Axes>"
      ]
     },
     "metadata": {},
     "output_type": "display_data"
    }
   ],
   "source": [
    "df_plot = pd.DataFrame({\n",
    "    'Qty Aktual': y_test,\n",
    "    'Qty Prediksi': y_pred\n",
    "})\n",
    "\n",
    "plt.figure(figsize=(8, 5))\n",
    "sns.boxplot(data=df_plot, palette=\"pastel\")\n",
    "plt.title(\"Boxplot Qty Aktual vs Qty Prediksi\")\n",
    "plt.ylabel(\"Jumlah Terjual (Qty)\")\n",
    "plt.grid(True)\n",
    "plt.tight_layout()\n",
    "plt.show()"
   ]
  },
  {
   "cell_type": "markdown",
   "id": "758c2aad",
   "metadata": {},
   "source": [
    "Boxplot ini menggambarkan distribusi jumlah produk terjual antara data aktual dan hasil prediksi model XGBoost. Tampak bahwa median prediksi sedikit lebih rendah dari nilai aktual, dan rentang antar kuartil (IQR) pada prediksi lebih sempit. Hal ini mengindikasikan bahwa model cenderung lebih konservatif dan kurang variatif dalam prediksi, terutama dalam merespons kasus penjualan tinggi. Meskipun model mampu mengikuti pola pusat distribusi, minimnya outlier pada prediksi menunjukkan keterbatasan model dalam menangkap permintaan ekstrem yang sesekali terjadi di lapangan."
   ]
  },
  {
   "cell_type": "markdown",
   "id": "06e0d189",
   "metadata": {},
   "source": [
    "Berdasarkan ketiga visualisasi—boxplot, histogram error, dan scatter plot—dapat disimpulkan bahwa model XGBoost memiliki performa yang cukup baik dalam memprediksi jumlah terjual produk lokal. Model mampu mengikuti pola umum dari data historis dan menghasilkan prediksi yang stabil dengan error rata-rata yang kecil (MAE 0.0075 dan RMSE 0.0500). Namun, beberapa keterbatasan masih terlihat, seperti kecenderungan untuk memberikan prediksi konservatif dan kesulitan dalam menangkap nilai Qty yang ekstrem atau lebih tinggi. Oleh karena itu, meskipun model dapat digunakan sebagai dasar awal dalam mendukung keputusan restock, penggunaannya sebaiknya dibarengi dengan evaluasi manual, terutama untuk produk yang memiliki karakteristik permintaan yang fluktuatif atau musiman. Pengembangan lanjutan dengan menambahkan variabel kontekstual seperti waktu promosi, klasifikasi produk, dan tren penjualan dapat membantu meningkatkan akurasi prediksi model di masa mendatang."
   ]
  },
  {
   "cell_type": "markdown",
   "id": "dee4490a",
   "metadata": {},
   "source": [
    "# Post-Eval: Save & Aggregate"
   ]
  },
  {
   "cell_type": "code",
   "execution_count": 84,
   "id": "5ee198a6",
   "metadata": {},
   "outputs": [
    {
     "data": {
      "text/plain": [
       "['model_prediksi_qty_artlinx.joblib']"
      ]
     },
     "execution_count": 84,
     "metadata": {},
     "output_type": "execute_result"
    }
   ],
   "source": [
    "# Simpan model\n",
    "joblib.dump(model_qty, 'model_prediksi_qty_artlinx.joblib')"
   ]
  },
  {
   "cell_type": "code",
   "execution_count": 85,
   "id": "4a32bb49",
   "metadata": {},
   "outputs": [
    {
     "name": "stdout",
     "output_type": "stream",
     "text": [
      "\n",
      "Total Penjualan Aktual vs Prediksi per Bulan:\n",
      "    tahun  bulan  Qty Aktual  Qty Prediksi\n",
      "0    2024      1     5574394     5636291.0\n",
      "1    2024      2     4892360     4947630.5\n",
      "2    2024      3     9023492     9124524.0\n",
      "3    2024      4     8953524     9052356.0\n",
      "4    2024      5     8821085     8919448.0\n",
      "5    2024      6    11110805    11235232.0\n",
      "6    2024      7    11463994    11595145.0\n",
      "7    2024      8    10548324    10666511.0\n",
      "8    2024      9    14326473    14490540.0\n",
      "9    2024     10    14197772    14358651.0\n",
      "10   2024     11    14055103    14212401.0\n",
      "11   2024     12    18713826    18924448.0\n"
     ]
    }
   ],
   "source": [
    "# Gabungkan hasil prediksi dengan kode produk\n",
    "hasil_prediksi_full = pd.DataFrame({\n",
    "    'Kode Produk': kode_test.values,\n",
    "    'Qty Aktual': y_test.values,\n",
    "    'Qty Prediksi': y_pred.round(2)\n",
    "})\n",
    "\n",
    "# Gabungkan dengan df_proc untuk ambil informasi tambahan\n",
    "hasil_prediksi_full = hasil_prediksi_full.merge(\n",
    "    df_proc[['Kode', 'Nama Produk', 'Merk', 'Tanggal']],\n",
    "    left_on='Kode Produk',\n",
    "    right_on='Kode',\n",
    "    how='left'\n",
    ")\n",
    "\n",
    "# Tambahkan bulan dan tahun untuk agregasi\n",
    "hasil_prediksi_full['bulan'] = hasil_prediksi_full['Tanggal'].dt.month\n",
    "hasil_prediksi_full['tahun'] = hasil_prediksi_full['Tanggal'].dt.year\n",
    "\n",
    "# Agregasi total Qty per bulan\n",
    "hasil_agg_bulanan = hasil_prediksi_full.groupby(['tahun', 'bulan'])[['Qty Aktual', 'Qty Prediksi']].sum().reset_index()\n",
    "\n",
    "# Tampilkan hasil agregasi\n",
    "print(\"\\nTotal Penjualan Aktual vs Prediksi per Bulan:\")\n",
    "print(hasil_agg_bulanan)\n",
    "\n",
    "# Simpan ke file Excel\n",
    "#hasil_prediksi_full.to_csv('hasil_prediksi_full.csv', index=False)\n",
    "hasil_agg_bulanan.to_excel('hasil_prediksi_agregat_bulanan.xlsx', index=False)"
   ]
  },
  {
   "cell_type": "markdown",
   "id": "17609e88",
   "metadata": {},
   "source": [
    "Tabel Total Penjualan Aktual vs Prediksi per Bulan menunjukkan hasil agregasi dari prediksi model XGBoost terhadap jumlah produk terjual (Qty) pada setiap bulan sepanjang tahun 2024. Pada tabel tersebut, dapat dilihat bahwa model menghasilkan nilai prediksi yang sangat mendekati nilai aktual, dengan tren pergerakan yang serupa dari bulan ke bulan. Misalnya, pada bulan Desember 2024, model memprediksi total penjualan sebesar 18.924.448 unit, yang sangat dekat dengan penjualan aktual sebesar 18.713.826 unit. Hal ini menunjukkan bahwa model mampu menangkap pola musiman dan fluktuasi penjualan secara akurat, termasuk lonjakan penjualan di bulan-bulan akhir tahun yang umumnya berkaitan dengan event besar dan libur panjang."
   ]
  },
  {
   "cell_type": "markdown",
   "id": "904e7c62",
   "metadata": {},
   "source": [
    "# Test Prediction"
   ]
  },
  {
   "cell_type": "code",
   "execution_count": 86,
   "id": "aea28ab8",
   "metadata": {},
   "outputs": [],
   "source": [
    "model_qty = joblib.load('model_prediksi_qty_artlinx.joblib')\n",
    "le_merk = joblib.load('encoder_merk.pkl')\n",
    "le_metode = joblib.load('encoder_metode.pkl')"
   ]
  },
  {
   "cell_type": "code",
   "execution_count": 89,
   "id": "65220406",
   "metadata": {},
   "outputs": [],
   "source": [
    "def predict_qty_by_merk(merk_input, bulan_input, tahun_input, diskon_default=0):\n",
    "    df_merk = df_proc[df_proc['Merk'] == merk_input].copy()\n",
    "    if df_merk.empty:\n",
    "        print(f\"Tidak ada produk dengan merk: {merk_input}\")\n",
    "        return None\n",
    "\n",
    "    df_pred = df_merk[['Nama Produk', 'Merk', 'Metode Penjualan', 'Kategori ID', 'Harga Jual', 'Kategori 1']].drop_duplicates()\n",
    "    df_pred['bulan'] = bulan_input\n",
    "    df_pred['tahun'] = tahun_input\n",
    "    df_pred['dayofweek'] = 0\n",
    "    df_pred['is_weekend'] = 0\n",
    "    df_pred['Diskon'] = diskon_default\n",
    "\n",
    "    df_pred['Merk'] = le_merk.transform(df_pred['Merk'])\n",
    "    df_pred['Metode Penjualan'] = le_metode.transform(df_pred['Metode Penjualan'])\n",
    "\n",
    "    df_model_input = df_pred[['dayofweek', 'is_weekend', 'bulan', 'tahun', 'Merk', 'Kategori ID',\n",
    "                              'Metode Penjualan', 'Harga Jual', 'Diskon']]\n",
    "\n",
    "\n",
    "    pred_qty = model_qty.predict(df_model_input)\n",
    "    df_pred['Qty Diprediksi'] = pred_qty.round(2)\n",
    "\n",
    "    df_output = df_pred[['Nama Produk', 'Harga Jual', 'Kategori 1', 'Qty Diprediksi']].sort_values(by='Qty Diprediksi', ascending=False)\n",
    "    df_output.reset_index(drop=True, inplace=True)\n",
    "    df_output.to_csv('hasil_prediksi.csv', index=False)\n",
    "    return df_output"
   ]
  },
  {
   "cell_type": "code",
   "execution_count": 90,
   "id": "b5acc4b0",
   "metadata": {},
   "outputs": [
    {
     "name": "stdout",
     "output_type": "stream",
     "text": [
      "\n",
      "Hasil Prediksi Penjualan - Merk: CROCHILL (7/2025)\n"
     ]
    },
    {
     "data": {
      "text/html": [
       "<div>\n",
       "<style scoped>\n",
       "    .dataframe tbody tr th:only-of-type {\n",
       "        vertical-align: middle;\n",
       "    }\n",
       "\n",
       "    .dataframe tbody tr th {\n",
       "        vertical-align: top;\n",
       "    }\n",
       "\n",
       "    .dataframe thead th {\n",
       "        text-align: right;\n",
       "    }\n",
       "</style>\n",
       "<table border=\"1\" class=\"dataframe\">\n",
       "  <thead>\n",
       "    <tr style=\"text-align: right;\">\n",
       "      <th></th>\n",
       "      <th>Nama Produk</th>\n",
       "      <th>Harga Jual</th>\n",
       "      <th>Kategori 1</th>\n",
       "      <th>Qty Diprediksi</th>\n",
       "    </tr>\n",
       "  </thead>\n",
       "  <tbody>\n",
       "    <tr>\n",
       "      <th>0</th>\n",
       "      <td>Phonestrap Heart Baby Blue</td>\n",
       "      <td>33000</td>\n",
       "      <td>Gantungan Kunci, Tas, dan HP</td>\n",
       "      <td>1.54</td>\n",
       "    </tr>\n",
       "    <tr>\n",
       "      <th>1</th>\n",
       "      <td>Phonestrap Heart Mint</td>\n",
       "      <td>33000</td>\n",
       "      <td>Gantungan Kunci, Tas, dan HP</td>\n",
       "      <td>1.54</td>\n",
       "    </tr>\n",
       "    <tr>\n",
       "      <th>2</th>\n",
       "      <td>Phonestrap Heart Sage Green</td>\n",
       "      <td>33000</td>\n",
       "      <td>Gantungan Kunci, Tas, dan HP</td>\n",
       "      <td>1.54</td>\n",
       "    </tr>\n",
       "    <tr>\n",
       "      <th>3</th>\n",
       "      <td>Phonestrap Heart White</td>\n",
       "      <td>33000</td>\n",
       "      <td>Gantungan Kunci, Tas, dan HP</td>\n",
       "      <td>1.54</td>\n",
       "    </tr>\n",
       "    <tr>\n",
       "      <th>4</th>\n",
       "      <td>Phonestrap Heart Black</td>\n",
       "      <td>33000</td>\n",
       "      <td>Gantungan Kunci, Tas, dan HP</td>\n",
       "      <td>1.54</td>\n",
       "    </tr>\n",
       "    <tr>\n",
       "      <th>5</th>\n",
       "      <td>Phonestrap Heart Baby Blue</td>\n",
       "      <td>33000</td>\n",
       "      <td>Gantungan Kunci, Tas, dan HP</td>\n",
       "      <td>1.52</td>\n",
       "    </tr>\n",
       "    <tr>\n",
       "      <th>6</th>\n",
       "      <td>Keychain Amigurumi Duck Lotus Leaf</td>\n",
       "      <td>50000</td>\n",
       "      <td>Gantungan Kunci, Tas, dan HP</td>\n",
       "      <td>1.49</td>\n",
       "    </tr>\n",
       "    <tr>\n",
       "      <th>7</th>\n",
       "      <td>Keychain Amigurumi Duck Blue Daisy</td>\n",
       "      <td>50000</td>\n",
       "      <td>Gantungan Kunci, Tas, dan HP</td>\n",
       "      <td>1.49</td>\n",
       "    </tr>\n",
       "    <tr>\n",
       "      <th>8</th>\n",
       "      <td>Keychain Amigurumi Duck Straw Hat</td>\n",
       "      <td>50000</td>\n",
       "      <td>Gantungan Kunci, Tas, dan HP</td>\n",
       "      <td>1.49</td>\n",
       "    </tr>\n",
       "    <tr>\n",
       "      <th>9</th>\n",
       "      <td>Keychain Amigurumi Duck Sunny Egg</td>\n",
       "      <td>50000</td>\n",
       "      <td>Gantungan Kunci, Tas, dan HP</td>\n",
       "      <td>1.49</td>\n",
       "    </tr>\n",
       "    <tr>\n",
       "      <th>10</th>\n",
       "      <td>Keychain Amigurumi Duck Headphone</td>\n",
       "      <td>50000</td>\n",
       "      <td>Gantungan Kunci, Tas, dan HP</td>\n",
       "      <td>1.49</td>\n",
       "    </tr>\n",
       "    <tr>\n",
       "      <th>11</th>\n",
       "      <td>Keychain Amigurumi Cat Black</td>\n",
       "      <td>43000</td>\n",
       "      <td>Gantungan Kunci, Tas, dan HP</td>\n",
       "      <td>1.48</td>\n",
       "    </tr>\n",
       "    <tr>\n",
       "      <th>12</th>\n",
       "      <td>Keychain Amigurumi Cat Grey</td>\n",
       "      <td>43000</td>\n",
       "      <td>Gantungan Kunci, Tas, dan HP</td>\n",
       "      <td>1.48</td>\n",
       "    </tr>\n",
       "    <tr>\n",
       "      <th>13</th>\n",
       "      <td>Keychain Amigurumi Cat Brownie</td>\n",
       "      <td>43000</td>\n",
       "      <td>Gantungan Kunci, Tas, dan HP</td>\n",
       "      <td>1.48</td>\n",
       "    </tr>\n",
       "    <tr>\n",
       "      <th>14</th>\n",
       "      <td>Keychain Amigurumi Cat Oyen</td>\n",
       "      <td>43000</td>\n",
       "      <td>Gantungan Kunci, Tas, dan HP</td>\n",
       "      <td>1.48</td>\n",
       "    </tr>\n",
       "    <tr>\n",
       "      <th>15</th>\n",
       "      <td>Keychain Amigurumi Cat Dusty Pink</td>\n",
       "      <td>43000</td>\n",
       "      <td>Gantungan Kunci, Tas, dan HP</td>\n",
       "      <td>1.48</td>\n",
       "    </tr>\n",
       "    <tr>\n",
       "      <th>16</th>\n",
       "      <td>Keychain Amigurumi Cat White</td>\n",
       "      <td>43000</td>\n",
       "      <td>Gantungan Kunci, Tas, dan HP</td>\n",
       "      <td>1.48</td>\n",
       "    </tr>\n",
       "    <tr>\n",
       "      <th>17</th>\n",
       "      <td>Keychain Amigurumi Cat Dusty Blue</td>\n",
       "      <td>43000</td>\n",
       "      <td>Gantungan Kunci, Tas, dan HP</td>\n",
       "      <td>1.48</td>\n",
       "    </tr>\n",
       "    <tr>\n",
       "      <th>18</th>\n",
       "      <td>Keychain Amigurumi Cat Calico</td>\n",
       "      <td>43000</td>\n",
       "      <td>Gantungan Kunci, Tas, dan HP</td>\n",
       "      <td>1.48</td>\n",
       "    </tr>\n",
       "    <tr>\n",
       "      <th>19</th>\n",
       "      <td>Keychain Amigurumi Cat Black</td>\n",
       "      <td>43000</td>\n",
       "      <td>Gantungan Kunci, Tas, dan HP</td>\n",
       "      <td>1.39</td>\n",
       "    </tr>\n",
       "    <tr>\n",
       "      <th>20</th>\n",
       "      <td>Keychain Amigurumi Cat Calico</td>\n",
       "      <td>43000</td>\n",
       "      <td>Gantungan Kunci, Tas, dan HP</td>\n",
       "      <td>1.39</td>\n",
       "    </tr>\n",
       "    <tr>\n",
       "      <th>21</th>\n",
       "      <td>Keychain Amigurumi Cat Grey</td>\n",
       "      <td>43000</td>\n",
       "      <td>Gantungan Kunci, Tas, dan HP</td>\n",
       "      <td>1.39</td>\n",
       "    </tr>\n",
       "    <tr>\n",
       "      <th>22</th>\n",
       "      <td>Keychain Amigurumi Duck Lotus Leaf</td>\n",
       "      <td>50000</td>\n",
       "      <td>Gantungan Kunci, Tas, dan HP</td>\n",
       "      <td>1.39</td>\n",
       "    </tr>\n",
       "    <tr>\n",
       "      <th>23</th>\n",
       "      <td>Keychain Amigurumi Cat Oyen</td>\n",
       "      <td>43000</td>\n",
       "      <td>Gantungan Kunci, Tas, dan HP</td>\n",
       "      <td>1.39</td>\n",
       "    </tr>\n",
       "    <tr>\n",
       "      <th>24</th>\n",
       "      <td>Keychain Amigurumi Cat White</td>\n",
       "      <td>43000</td>\n",
       "      <td>Gantungan Kunci, Tas, dan HP</td>\n",
       "      <td>1.39</td>\n",
       "    </tr>\n",
       "  </tbody>\n",
       "</table>\n",
       "</div>"
      ],
      "text/plain": [
       "                           Nama Produk  Harga Jual  \\\n",
       "0           Phonestrap Heart Baby Blue       33000   \n",
       "1                Phonestrap Heart Mint       33000   \n",
       "2          Phonestrap Heart Sage Green       33000   \n",
       "3               Phonestrap Heart White       33000   \n",
       "4               Phonestrap Heart Black       33000   \n",
       "5           Phonestrap Heart Baby Blue       33000   \n",
       "6   Keychain Amigurumi Duck Lotus Leaf       50000   \n",
       "7   Keychain Amigurumi Duck Blue Daisy       50000   \n",
       "8    Keychain Amigurumi Duck Straw Hat       50000   \n",
       "9    Keychain Amigurumi Duck Sunny Egg       50000   \n",
       "10   Keychain Amigurumi Duck Headphone       50000   \n",
       "11        Keychain Amigurumi Cat Black       43000   \n",
       "12         Keychain Amigurumi Cat Grey       43000   \n",
       "13      Keychain Amigurumi Cat Brownie       43000   \n",
       "14         Keychain Amigurumi Cat Oyen       43000   \n",
       "15   Keychain Amigurumi Cat Dusty Pink       43000   \n",
       "16        Keychain Amigurumi Cat White       43000   \n",
       "17   Keychain Amigurumi Cat Dusty Blue       43000   \n",
       "18       Keychain Amigurumi Cat Calico       43000   \n",
       "19        Keychain Amigurumi Cat Black       43000   \n",
       "20       Keychain Amigurumi Cat Calico       43000   \n",
       "21         Keychain Amigurumi Cat Grey       43000   \n",
       "22  Keychain Amigurumi Duck Lotus Leaf       50000   \n",
       "23         Keychain Amigurumi Cat Oyen       43000   \n",
       "24        Keychain Amigurumi Cat White       43000   \n",
       "\n",
       "                      Kategori 1  Qty Diprediksi  \n",
       "0   Gantungan Kunci, Tas, dan HP            1.54  \n",
       "1   Gantungan Kunci, Tas, dan HP            1.54  \n",
       "2   Gantungan Kunci, Tas, dan HP            1.54  \n",
       "3   Gantungan Kunci, Tas, dan HP            1.54  \n",
       "4   Gantungan Kunci, Tas, dan HP            1.54  \n",
       "5   Gantungan Kunci, Tas, dan HP            1.52  \n",
       "6   Gantungan Kunci, Tas, dan HP            1.49  \n",
       "7   Gantungan Kunci, Tas, dan HP            1.49  \n",
       "8   Gantungan Kunci, Tas, dan HP            1.49  \n",
       "9   Gantungan Kunci, Tas, dan HP            1.49  \n",
       "10  Gantungan Kunci, Tas, dan HP            1.49  \n",
       "11  Gantungan Kunci, Tas, dan HP            1.48  \n",
       "12  Gantungan Kunci, Tas, dan HP            1.48  \n",
       "13  Gantungan Kunci, Tas, dan HP            1.48  \n",
       "14  Gantungan Kunci, Tas, dan HP            1.48  \n",
       "15  Gantungan Kunci, Tas, dan HP            1.48  \n",
       "16  Gantungan Kunci, Tas, dan HP            1.48  \n",
       "17  Gantungan Kunci, Tas, dan HP            1.48  \n",
       "18  Gantungan Kunci, Tas, dan HP            1.48  \n",
       "19  Gantungan Kunci, Tas, dan HP            1.39  \n",
       "20  Gantungan Kunci, Tas, dan HP            1.39  \n",
       "21  Gantungan Kunci, Tas, dan HP            1.39  \n",
       "22  Gantungan Kunci, Tas, dan HP            1.39  \n",
       "23  Gantungan Kunci, Tas, dan HP            1.39  \n",
       "24  Gantungan Kunci, Tas, dan HP            1.39  "
      ]
     },
     "metadata": {},
     "output_type": "display_data"
    }
   ],
   "source": [
    "hasil_prediksi = predict_qty_by_merk('CROCHILL', 7, 2025, diskon_default=10)\n",
    "if hasil_prediksi is not None:\n",
    "    print(f\"\\nHasil Prediksi Penjualan - Merk: CROCHILL (7/2025)\")\n",
    "    display(hasil_prediksi)"
   ]
  }
 ],
 "metadata": {
  "kernelspec": {
   "display_name": "base",
   "language": "python",
   "name": "python3"
  },
  "language_info": {
   "codemirror_mode": {
    "name": "ipython",
    "version": 3
   },
   "file_extension": ".py",
   "mimetype": "text/x-python",
   "name": "python",
   "nbconvert_exporter": "python",
   "pygments_lexer": "ipython3",
   "version": "3.12.7"
  }
 },
 "nbformat": 4,
 "nbformat_minor": 5
}
